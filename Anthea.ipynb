{
 "cells": [
  {
   "cell_type": "code",
   "execution_count": null,
   "id": "30faeeac-7a8c-4623-8afd-2920f62ca49a",
   "metadata": {},
   "outputs": [],
   "source": []
  },
  {
   "cell_type": "code",
   "execution_count": 36,
   "id": "106f65a8-b2de-4881-ac78-a8924a2dadeb",
   "metadata": {
    "tags": []
   },
   "outputs": [],
   "source": [
    "# loading the libraries\n",
    "import random\n",
    "import numpy as np\n",
    "import matplotlib.pyplot as plt\n",
    "import xarray as xr\n",
    "import os\n",
    "import pooch\n",
    "import tempfile\n",
    "import cartopy.crs as ccrs\n",
    "import holoviews\n",
    "from geoviews import Dataset as gvDataset\n",
    "import geoviews.feature as gf\n",
    "from geoviews import Image as gvImage\n",
    "import boto3\n",
    "import botocore\n",
    "from pythia_datasets import DATASETS\n",
    "from scipy import stats"
   ]
  },
  {
   "cell_type": "code",
   "execution_count": 37,
   "id": "979ce2d8-76cc-4486-ba30-347f468dbe10",
   "metadata": {
    "tags": []
   },
   "outputs": [],
   "source": [
    "# helper functions\n",
    "def pooch_load(filelocation=None,filename=None,processor=None):\n",
    "    shared_location='/home/jovyan/shared/Data/Projects/Sea_Level' # this is different for each day\n",
    "    user_temp_cache=tempfile.gettempdir()\n",
    "    \n",
    "    if os.path.exists(os.path.join(shared_location,filename)):\n",
    "        file = os.path.join(shared_location,filename)\n",
    "    else:\n",
    "        file = pooch.retrieve(filelocation,known_hash=None,fname=os.path.join(user_temp_cache,filename),processor=processor)\n",
    "\n",
    "    return file"
   ]
  },
  {
   "cell_type": "code",
   "execution_count": null,
   "id": "5acb004c-2eea-44b6-b4b3-e8a07d3ee1ea",
   "metadata": {
    "tags": []
   },
   "outputs": [],
   "source": [
    "#loading the dataset and the sea surface height information\n",
    "url_ECCO='~/shared/Data/Projects/Sea_Level/SEA_SURFACE_HEIGHT_mon_mean_1992-01-2017-12_ECCO_V4r4_latlon_0p50deg.nc'\n",
    "ds=xr.open_dataset(url_ECCO)\n",
    "ssh=ds[\"SSH\"]\n",
    "ssh"
   ]
  },
  {
   "cell_type": "code",
   "execution_count": null,
   "id": "323dfaa5-2349-4d38-a327-65ac5a3d021a",
   "metadata": {
    "tags": []
   },
   "outputs": [],
   "source": [
    "#defining coordinates to cover the extent of Indonesia\n",
    "minlat=-14\n",
    "maxlat=10\n",
    "minlon=89\n",
    "maxlon=142"
   ]
  },
  {
   "cell_type": "code",
   "execution_count": null,
   "id": "a65b8dff-41df-48f4-b99e-065fb9fa2986",
   "metadata": {
    "tags": []
   },
   "outputs": [],
   "source": [
    "#cropping the data for Indonesia\n",
    "ssh=ssh.sel(latitude=slice(minlat, maxlat), longitude=slice(minlon, maxlon))"
   ]
  },
  {
   "cell_type": "code",
   "execution_count": null,
   "id": "3f5131d1-dfb1-4605-bb90-cdb73547e5de",
   "metadata": {
    "tags": []
   },
   "outputs": [],
   "source": [
    "#calculate the mean sea surface height across all years available - the data starts from 1992\n",
    "ssh_mean=ssh.mean(\"time\")\n",
    "ssh_mean"
   ]
  },
  {
   "cell_type": "code",
   "execution_count": null,
   "id": "3c27e5ea-62ba-4b83-b19e-577b16eabee6",
   "metadata": {
    "tags": []
   },
   "outputs": [],
   "source": [
    "#plotting the mean ssh across all data available\n",
    "fig = plt.figure(figsize=(12, 6))\n",
    "ax = plt.axes(projection=ccrs.Robinson(central_longitude=110))\n",
    "ssh_mean.plot(transform=ccrs.PlateCarree(), ax=ax)\n",
    "\n",
    "# add coastlines\n",
    "ax.coastlines()"
   ]
  },
  {
   "cell_type": "code",
   "execution_count": null,
   "id": "0832c080-c290-48e5-8edb-5b23f1086731",
   "metadata": {
    "tags": []
   },
   "outputs": [],
   "source": [
    "#calculate the difference between mean SSH and each of these\n",
    "ssh_year=ssh.groupby(\"time.year\").mean()\n",
    "\n",
    "#calculate the mean anomaly per year\n",
    "ssh_anomaly=ssh_year-ssh_mean\n",
    "ssh_anomaly"
   ]
  },
  {
   "cell_type": "code",
   "execution_count": null,
   "id": "b40ac9c4-517e-4e6d-8aa2-8c58664db845",
   "metadata": {
    "tags": []
   },
   "outputs": [],
   "source": [
    "holoviews.extension(\"bokeh\")\n",
    "dataset_plot = gvDataset(\n",
    "    ssh_anomaly\n",
    ")  # only the first 10, as it is a time consuming task\n",
    "images = dataset_plot.to(gvImage, [\"longitude\", \"latitude\"], [\"SSH\"], \"year\")\n",
    "images.opts(\n",
    "    cmap=\"BrBG\",\n",
    "    colorbar=True,\n",
    "    width=600,\n",
    "    height=400,\n",
    "    projection=ccrs.Robinson(),\n",
    "    clabel=\"Yearly SSH Anomaly \\n(mm/day)\",\n",
    ") * gf.coastline"
   ]
  },
  {
   "cell_type": "code",
   "execution_count": null,
   "id": "df0c3eca-e516-4b0f-8100-fb8c9e052eeb",
   "metadata": {
    "tags": []
   },
   "outputs": [],
   "source": [
    "ssh_anomaly_mean = ssh_anomaly.mean(dim=[\"latitude\", \"longitude\"])\n",
    "ssh_anomaly_mean"
   ]
  },
  {
   "cell_type": "code",
   "execution_count": null,
   "id": "aa509ab4-736f-49b4-84e2-99a721bf856d",
   "metadata": {
    "tags": []
   },
   "outputs": [],
   "source": [
    "#plot spatial mean across latitude and longitude\n",
    "ssh_anomaly_mean.sel(year=slice(2000,2014)).plot()"
   ]
  },
  {
   "cell_type": "code",
   "execution_count": null,
   "id": "1664d20c-9743-437e-9b83-60b66e9e1f5a",
   "metadata": {
    "tags": []
   },
   "outputs": [],
   "source": [
    "#import data from CESM2 for sea surface temperature\n",
    "filepath = DATASETS.fetch(\"CESM2_sst_data.nc\")\n",
    "ds2 = xr.open_dataset(filepath)\n",
    "ds2\n"
   ]
  },
  {
   "cell_type": "code",
   "execution_count": null,
   "id": "71e6379e-365d-48bb-9ae5-4506bcb7815e",
   "metadata": {
    "tags": []
   },
   "outputs": [],
   "source": [
    "#calculate sea surface temperature anomaly across Indonesia\n",
    "indonesia_tos = ds2.tos.sel(lat = slice(minlat, maxlat\n",
    "), lon = slice(minlon, maxlon))\n",
    "indonesia_tos_mean = indonesia_tos.groupby(\"time.year\").mean()\n",
    "indonesia_tos_mean = indonesia_tos_mean.mean(dim=[\"lat\",\"lon\"])\n",
    "indonesia_tos_mean_time = indonesia_tos.groupby(\"time.year\").mean(dim=[\"lat\",\"lon\"]).mean(dim=\"time\")\n",
    "indonesia_tos_anom = indonesia_tos_mean - indonesia_tos_mean_time\n",
    "indonesia_tos_anom\n",
    "\n",
    "indonesia_tos_anom.plot()"
   ]
  },
  {
   "cell_type": "code",
   "execution_count": null,
   "id": "b7e3b3a6-c0c7-43f5-ab5c-6a2539a6502b",
   "metadata": {
    "tags": []
   },
   "outputs": [],
   "source": [
    "\n",
    "\n",
    "indo_tos_month = indonesia_tos.groupby('time.month')\n",
    "indo_tos_month_mean = indo_tos_month.mean(dim='time')\n",
    "\n",
    "indo_tos_jan_clim = indo_tos_month_mean[0].mean(dim=['lat','lon'])\n",
    "\n",
    "indo_tos_jan = indo_tos_month[1].mean(dim=['lat','lon'])\n",
    "jan_anomaly_tos = indo_tos_jan - indo_tos_jan_clim\n",
    "\n",
    "\n",
    "ssh_month = ssh.groupby('time.month')\n",
    "ssh_month_mean = ssh_month.mean(dim='time')\n",
    "ssh_jan_clim = ssh_month_mean[0].mean(dim=['latitude', 'longitude'])\n",
    "ssh_jan = ssh_month[1].mean(dim=['latitude', 'longitude'])\n",
    "ssh_jan_anomaly = ssh_jan - ssh_jan_clim\n",
    "\n",
    "fig, axs = plt.subplots(2, sharex=True)\n",
    "fig.suptitle(\"January: SSH anomaly vs. TOS anomaly\")\n",
    "axs[0].plot(ssh_jan_anomaly[8:-3])\n",
    "axs[0].set_ylabel(\"SSH (m)\")\n",
    "axs[0].axhline(y=0, color=\"k\", linestyle=\"-\")\n",
    "axs[1].plot(jan_anomaly_tos)\n",
    "axs[1].set_ylabel(\"SST anomaly (deg C)\")\n",
    "axs[1].set_xlabel(\"Time\")\n",
    "axs[1].axhline(y=0, color=\"k\", linestyle=\"-\")\n",
    "\n",
    "#ssh_anomaly_mean.sel(year=slice(2000,2014))#.plot()\n",
    "#year 0 is 2000"
   ]
  },
  {
   "cell_type": "code",
   "execution_count": null,
   "id": "41a3f859-7e90-4b9a-a944-b9534e0be6de",
   "metadata": {
    "tags": []
   },
   "outputs": [],
   "source": [
    "#Pearsons correlation coefficient for SSH and TOS\n",
    "ssh_tos_r, ssh_tos_p = stats.pearsonr(ssh_jan_anomaly[8:-3], jan_anomaly_tos)\n",
    "print(\"SSH-TOS Corr Coef: \" + str(ssh_tos_r) + \", p-val: \" + str(ssh_tos_p))\n"
   ]
  },
  {
   "cell_type": "code",
   "execution_count": null,
   "id": "58b8d205-ab7e-4402-9df5-af035507fe38",
   "metadata": {},
   "outputs": [],
   "source": [
    "\n",
    "indo_tos_month_mean = indo_tos_month.mean(dim='time')\n",
    "\n",
    "indo_tos_jan_clim = indo_tos_month_mean[0].mean(dim=['lat','lon'])\n",
    "\n",
    "indo_tos_jan = indo_tos_month[1].mean(dim=['lat','lon'])\n",
    "jan_anomaly_tos = indo_tos_jan - indo_tos_jan_clim\n",
    "\n",
    "\n",
    "ssh_month = ssh.groupby('time.month')\n",
    "ssh_month_mean = ssh_month.mean(dim='time')\n",
    "ssh_jan_clim = ssh_month_mean[0].mean(dim=['latitude', 'longitude'])\n",
    "ssh_jan = ssh_month[1].mean(dim=['latitude', 'longitude'])\n",
    "ssh_jan_anomaly = ssh_jan - ssh_jan_clim\n",
    "\n",
    "fig, axs = plt.subplots(2, sharex=True)\n",
    "fig.suptitle(\"January: SSH anomaly vs. TOS anomaly\")\n",
    "axs[0].plot(jan_anomaly_tos.time, ssh_jan_anomaly[8:-3])\n",
    "axs[0].set_ylabel(\"SSH (m)\")\n",
    "axs[0].axhline(y=0, color=\"k\", linestyle=\"-\")\n",
    "axs[1].plot(\n",
    "    jan_anomaly_tos.time, jan_anomaly_tos)\n",
    "axs[1].set_ylabel(\"SST anomaly (deg C)\")\n",
    "axs[1].set_xlabel(\"Time\")\n",
    "axs[1].axhline(y=0, color=\"k\", linestyle=\"-\")\n",
    "\n",
    "#ssh_anomaly_mean.sel(year=slice(2000,2014))#.plot()\n",
    "#year 0 is 2000"
   ]
  },
  {
   "cell_type": "code",
   "execution_count": null,
   "id": "5a44f1a4-1385-4e6c-ab83-32bdaaac49d4",
   "metadata": {
    "tags": []
   },
   "outputs": [],
   "source": [
    "# set up two subplots that share the x-axis to compare monthly precipitation and monthly anomaly\n",
    "fig, axs = plt.subplots(2, sharex=True)\n",
    "fig.suptitle(\"SSH anomaly vs. TOS anomaly (yearly)\")\n",
    "axs[0].plot(indonesia_tos_anom.year, ssh_anomaly_mean.sel(year=slice(2000,2014)))\n",
    "axs[0].set_ylabel(\"SSH (m)\")\n",
    "axs[1].plot(\n",
    "    indonesia_tos_anom.year, indonesia_tos_anom)\n",
    "axs[1].set_ylabel(\"SST anomaly (deg C)\")\n",
    "axs[1].set_xlabel(\"Time\")\n"
   ]
  },
  {
   "cell_type": "code",
   "execution_count": null,
   "id": "0d829e67-ebbc-49b0-b4d5-88dd690a817a",
   "metadata": {
    "tags": []
   },
   "outputs": [],
   "source": [
    "#Pearsons correlation coefficient for SSH and TOS\n",
    "ssh_tos_r, ssh_tos_p = stats.pearsonr(ssh_anomaly_mean.sel(year=slice(2000,2014)), indonesia_tos_anom)\n",
    "print(\"SSH-TOS Corr Coef: \" + str(ssh_tos_r) + \", p-val: \" + str(ssh_tos_p))"
   ]
  },
  {
   "cell_type": "markdown",
   "id": "08c7efd2-39f7-42a9-95f9-9622b986e98a",
   "metadata": {
    "tags": []
   },
   "source": [
    "# Precipitation"
   ]
  },
  {
   "cell_type": "code",
   "execution_count": null,
   "id": "5fc4eb78-ee35-45cc-a627-1a6a756e1d71",
   "metadata": {
    "tags": []
   },
   "outputs": [],
   "source": [
    "# imports\n",
    "import s3fs\n",
    "import xarray as xr\n",
    "import numpy as np\n",
    "import matplotlib.pyplot as plt\n",
    "import cartopy\n",
    "import cartopy.crs as ccrs\n",
    "import boto3\n",
    "import botocore\n",
    "import os\n",
    "import pooch\n",
    "import tempfile\n",
    "import holoviews\n",
    "from geoviews import Dataset as gvDataset\n",
    "import geoviews.feature as gf\n",
    "from geoviews import Image as gvImage\n",
    "\n",
    "# @title Helper functions\n",
    "\n",
    "def pooch_load(filelocation=None, filename=None, processor=None):\n",
    "    shared_location = \"/home/jovyan/shared/data/tutorials/W1D3_RemoteSensingLandOceanandAtmosphere\"  # this is different for each day\n",
    "    user_temp_cache = tempfile.gettempdir()\n",
    "\n",
    "    if os.path.exists(os.path.join(shared_location, filename)):\n",
    "        file = os.path.join(shared_location, filename)\n",
    "    else:\n",
    "        file = pooch.retrieve(\n",
    "            filelocation,\n",
    "            known_hash=None,\n",
    "            fname=os.path.join(user_temp_cache, filename),\n",
    "            processor=processor,\n",
    "        )\n",
    "\n",
    "    return file\n",
    "\n",
    "# connect to the AWS S3 bucket for the GPCP Monthly Precipitation CDR data\n",
    "fs = s3fs.S3FileSystem(anon=True)\n",
    "\n",
    "# get the list of all data files in the AWS S3 bucket\n",
    "file_pattern = \"noaa-cdr-precip-gpcp-monthly-pds/data/*/gpcp_v02r03_monthly_*.nc\"\n",
    "file_location = fs.glob(file_pattern)\n",
    "\n",
    "# open connection to all data files\n",
    "client = boto3.client(\n",
    "    \"s3\", config=botocore.client.Config(signature_version=botocore.UNSIGNED)\n",
    ")  # initialize aws s3 bucket client\n",
    "file_ob = [\n",
    "    pooch_load(filelocation=\"http://s3.amazonaws.com/\" + file, filename=file)\n",
    "    for file in file_location\n",
    "]\n",
    "\n",
    "# open all the monthly data files and concatenate them along the time dimension\n",
    "# this process will take ~ 1 minute to complete due to the number of data files\n",
    "ds = xr.open_mfdataset(file_ob, combine=\"nested\", concat_dim=\"time\")\n",
    "\n",
    "# comment for colab users only: this could toss an error message for you. \n",
    "# you should still be able to use the dataset with this error just not print ds\n",
    "# you can try uncommenting the following line to avoid the error\n",
    "# ds.attrs['history']='' # the history attribute have unique chars that cause a crash on Google colab. \n",
    "ds"
   ]
  },
  {
   "cell_type": "code",
   "execution_count": null,
   "id": "e614cd19-3e19-48fe-a111-223f7e52cbae",
   "metadata": {
    "tags": []
   },
   "outputs": [],
   "source": [
    "\n",
    "precip = ds.precip.sel(latitude=slice(-14, 10), longitude=slice(89, 142), time=slice(\"2000\",\"2014\"))\n",
    "precip_clim= precip.groupby(\"time.year\").mean()\n",
    "precip_clim=precip_clim.mean(dim=[\"latitude\",\"longitude\"])\n",
    "precip_clim_mean = precip.mean(dim=\"time\").mean(dim=[\"latitude\",\"longitude\"])\n",
    "precip_clim_anomaly=precip_clim - precip_clim_mean #subtract the clim\n",
    "precip_clim_anomaly.plot()"
   ]
  },
  {
   "cell_type": "code",
   "execution_count": null,
   "id": "7d8f91f8-d82a-4cf8-b9be-f144efc80808",
   "metadata": {
    "tags": []
   },
   "outputs": [],
   "source": [
    "#Pearsons correlation coefficient for PRECIP and SSH\n",
    "precip_ssh_r, precip_ssh_p= stats.pearsonr(ssh_anomaly_mean.sel(year=slice(2000,2014)), precip_clim_anomaly)\n",
    "print(\"Precipitation-SSH Corr Coef: \" + str(precip_ssh_r) + \", p-val: \" + str(precip_ssh_p))"
   ]
  },
  {
   "cell_type": "code",
   "execution_count": null,
   "id": "fdb45e01-4068-4659-b4fb-6e7fedec62e1",
   "metadata": {
    "tags": []
   },
   "outputs": [],
   "source": [
    "#Pearsons correlation coefficient for PRECIP and TOS\n",
    "precip_tos_r, precip_tos_p= stats.pearsonr(indonesia_tos_anom, precip_clim_anomaly)\n",
    "print(\"Precipitation-SSH Corr Coef: \" + str(precip_tos_r) + \", p-val: \" + str(precip_tos_p))\n"
   ]
  },
  {
   "cell_type": "code",
   "execution_count": null,
   "id": "7cc14e7c-3d16-4762-a36c-0d301f2b875a",
   "metadata": {
    "tags": []
   },
   "outputs": [],
   "source": [
    "ssh_anomaly_mean"
   ]
  },
  {
   "cell_type": "code",
   "execution_count": null,
   "id": "00ed9378-6295-44b4-9116-5cfa774e3952",
   "metadata": {
    "tags": []
   },
   "outputs": [],
   "source": [
    "indonesia_tos_anom.plot()\n",
    "precip_clim_anomaly.plot()\n",
    "ssh_anomaly_mean.sel(year=slice(2000,2014)).plot()"
   ]
  },
  {
   "cell_type": "code",
   "execution_count": null,
   "id": "6d6adbd1-f3b9-484e-91cc-5ced41958507",
   "metadata": {
    "tags": []
   },
   "outputs": [],
   "source": [
    "\n",
    "fig, axs = plt.subplots(3, sharex=True)\n",
    "fig.suptitle(\"January: SSH anomaly vs. TOS anomaly\")\n",
    "axs[0].plot(ssh_jan_anomaly[8:-3])\n",
    "axs[0].set_ylabel(\"SSH (m)\")\n",
    "axs[0].set_xlabel(\"Time\")\n",
    "axs[0].axhline(y=0, color=\"k\", linestyle=\"-\")\n",
    "axs[1].plot(jan_anomaly_tos)\n",
    "axs[1].set_xlabel(\"Time\")\n",
    "axs[1].set_ylabel(\"TOS anomaly (degC)\")\n",
    "axs[1].axhline(y=0, color=\"k\", linestyle=\"-\")\n",
    "axs[2].plot(precip_clim_anomaly.time, precip_clim_anomaly)\n",
    "axs[2].set_xlabel(\"Time\")\n",
    "axs[2].set_ylabel(\"Precipitation anomaly (mm)\")\n",
    "axs[2].axhline(y=0, color=\"k\", linestyle=\"-\")\n"
   ]
  },
  {
   "cell_type": "code",
   "execution_count": null,
   "id": "bda95525-4a71-4995-8a8e-d9588f01f0f2",
   "metadata": {
    "tags": []
   },
   "outputs": [],
   "source": [
    "# URLS for daily data\n",
    "\n",
    "# Pandang: https://uhslc.soest.hawaii.edu/data/netcdf/fast/daily/d107.nc \n",
    "# Bitung: https://uhslc.soest.hawaii.edu/data/netcdf/fast/daily/d033.nc\n",
    "# Siboga: https://uhslc.soest.hawaii.edu/data/netcdf/fast/daily/d122.nc\n",
    "# Sabang: https://uhslc.soest.hawaii.edu/data/netcdf/fast/daily/d123.nc\n",
    "# Prigi: https://uhslc.soest.hawaii.edu/data/netcdf/fast/daily/d125.nc\n",
    "# Ambon: https://uhslc.soest.hawaii.edu/data/netcdf/fast/daily/d133.nc\n",
    "# Cilacap: https://uhslc.soest.hawaii.edu/data/netcdf/fast/daily/d162.nc\n",
    "# Benoa: https://uhslc.soest.hawaii.edu/data/netcdf/fast/daily/d163.nc\n",
    "# Tanjung: https://uhslc.soest.hawaii.edu/data/netcdf/fast/daily/d416.nc\n",
    "# Sedang: https://uhslc.soest.hawaii.edu/data/netcdf/fast/daily/d417.nc\n",
    "# Waikelo: https://uhslc.soest.hawaii.edu/data/netcdf/fast/daily/d418.nc\n",
    "# Lembar: https://uhslc.soest.hawaii.edu/data/netcdf/fast/daily/d419.nc\n",
    "# Saumlaki: https://uhslc.soest.hawaii.edu/data/netcdf/fast/daily/d420.nc\n",
    "# Telukdalam: https://uhslc.soest.hawaii.edu/data/netcdf/fast/daily/d913.nc\n",
    "# Meulaboh: https://uhslc.soest.hawaii.edu/data/netcdf/fast/daily/d914.nc\n",
    "\n",
    "dict_of_chosen_locations={'Pandang': 'https://uhslc.soest.hawaii.edu/data/netcdf/fast/daily/d107.nc',\n",
    "                          'Bitung': 'https://uhslc.soest.hawaii.edu/data/netcdf/fast/daily/d033.nc',\n",
    "                          'Sabang': 'https://uhslc.soest.hawaii.edu/data/netcdf/fast/daily/d123.nc',\n",
    "                          'Prigi': 'https://uhslc.soest.hawaii.edu/data/netcdf/fast/daily/d125.nc',\n",
    "                          'Ambon': 'https://uhslc.soest.hawaii.edu/data/netcdf/fast/daily/d133.nc',\n",
    "                          'Lembar': 'https://uhslc.soest.hawaii.edu/data/netcdf/fast/daily/d419.nc',\n",
    "                          'Siboga': 'https://uhslc.soest.hawaii.edu/data/netcdf/fast/daily/d122.nc',\n",
    "                         }"
   ]
  },
  {
   "cell_type": "code",
   "execution_count": null,
   "id": "8e0199ce-3fa3-4301-bd4f-63d41ce57c93",
   "metadata": {},
   "outputs": [],
   "source": [
    "#takes the global variables so that we can assign the name \"ds_<enter location>\" to each data set\n",
    "my_var=globals()\n",
    "list_of_sea_level_datasets = []\n",
    "# loop through the dictionary of chosen locations to assign the netcdf data to each name and store it in global variables\n",
    "for k,v in dict_of_chosen_locations.items():\n",
    "    my_var[\"ds_\"+k.lower()] = xr.open_dataset(\n",
    "    pooch.retrieve(v, known_hash=None)\n",
    "    )\n",
    "    list_of_sea_level_datasets.append(eval((\"ds_\"+k.lower()))) #creates a list for sea level datasets for future use\n",
    "\n",
    "# calculate the monthly mean between a time period for the region\n",
    "# we can see that the sea level differs greatly from summer to winter seasons\n",
    "list_of_sl_mean= []\n",
    "ax = plt.axes()\n",
    "for i, key in enumerate(dict_of_chosen_locations): #i represents the loop count and key is the name of the location.\n",
    "    my_var[key.lower()+\"_mean\"]=(\n",
    "    list_of_sea_level_datasets[i].sea_level.sel(time=slice(\"2008-10-02\", \"2021-12-11\")).groupby('time.year').mean()\n",
    "    )\n",
    "    list_of_sl_mean.append(eval(key.lower()+\"_mean\")) #creates a list for mean sea level over time for future use\n",
    "    eval(key.lower()+\"_mean\").plot(ax=ax, label = key) #plots mean for each location\n",
    "    \n",
    "ax.legend()"
   ]
  },
  {
   "cell_type": "code",
   "execution_count": null,
   "id": "46ef80f9-5a71-4be8-805c-7d51e94416a0",
   "metadata": {
    "tags": []
   },
   "outputs": [],
   "source": [
    "ffilled_datasets = [x.ffill(dim=\"time\") for x in list_of_sea_level_datasets]\n",
    "keys = list(dict_of_chosen_locations)\n",
    "for i, a in enumerate(keys):\n",
    "    \n",
    "    keys.remove(a)\n",
    "    for j, b in enumerate(keys):\n",
    "        r,p=stats.pearsonr(ffilled_datasets[i].sea_level.sel(time=slice(\"2008-10-02\", \"2021-12-11\")).squeeze(), ffilled_datasets[j].sea_level.sel(time=slice(\"2008-10-02\", \"2021-12-11\")).squeeze())\n",
    "        print(a,b,r,p)"
   ]
  },
  {
   "cell_type": "code",
   "execution_count": null,
   "id": "a8b47a97-a45a-465d-81ea-b27b75c81bf9",
   "metadata": {
    "tags": []
   },
   "outputs": [],
   "source": [
    "loc_lat=[-0.9397466858685701, 1.48, 5.881303082560345, -8.269878225923001, -3.6368986779246977, -8.73904591353275, 1.75]\n",
    "loc_lon=[100.4159027330682, 125.55, 95.33574428146883, 111.72181131396911, 128.16884101601298, 116.09401919927895, 98.76]"
   ]
  },
  {
   "cell_type": "code",
   "execution_count": null,
   "id": "0d00369d-72ab-4991-ae1a-9a31f3cf5ec4",
   "metadata": {},
   "outputs": [],
   "source": [
    "# Plot SSH, TOS, Tidal Gauge, Precip Data for all 7 locations\n",
    "start = \"2008-10-02\"\n",
    "end = \"2017-01-01\" #Use specific dates because some locations don't start on Jan 1st of 2008\n",
    "tos = ds2.tos\n",
    "\n",
    "fig, axes = plt.subplots(7,4,figsize=(16,12))\n",
    "# loop over locations \n",
    "for i,a in enumerate(list(dict_of_chosen_locations)):\n",
    "    ssh_loc = ssh.sel(latitude=loc_lat[i], longitude=loc_lon[i], method = \"nearest\")\n",
    "    ssh_loc_mean = ssh_loc.sel(time=slice(start, end)).groupby(\"time.year\").mean()\n",
    "    ssh_loc_anom = ssh_loc_mean - ssh_loc_mean.mean(dim=\"time\")\n",
    "    tos_loc = tos.sel(lat=loc_lat[i], lon=loc_lon[i], method = \"nearest\")\n",
    "    tos_loc_mean = tos_loc.groupby(\"time.year\").mean()\n",
    "    precip_loc = ds.precip.sel(latitude=loc_lat[i], longitude=loc_lon[i], method = \"nearest\")\n",
    "    precip_loc_mean = precip_loc.groupby(\"time.year\").mean()\n",
    "    tidal_gauge_loc = ffilled_datasets[i].sea_level.sel(time=slice(start,end)).squeeze()\n",
    "    tidal_gauge_loc_mean = tidal_gauge_loc.groupby(\"time.year\").mean()\n",
    "    axes[i,0].plot(ssh_loc_anom)\n",
    "    axes[i,1].plot(tos_loc_mean)\n",
    "    axes[i,2].plot(tidal_gauge_loc_mean)\n",
    "    axes[i,3].plot(precip_loc_mean)\n",
    "    axes[i,0].set_xlabel(\"SSH\")\n",
    "    axes[i,1].set_xlabel(\"TOS\")\n",
    "    axes[i,2].set_xlabel(\"Tidal Gauge\")\n",
    "    axes[i,3].set_xlabel(\"Precip\")"
   ]
  },
  {
   "cell_type": "code",
   "execution_count": null,
   "id": "b0736b7a-2052-4105-b83b-699816dc82cd",
   "metadata": {
    "tags": []
   },
   "outputs": [],
   "source": [
    "#corr coeff for precip vs. tidal gauge for all six locations\n",
    "tos = ds2.tos\n",
    "list_of_corr_coeff_precip_vs_tidal_gauge = []\n",
    "for i,a in enumerate(list(dict_of_chosen_locations)):\n",
    "    \n",
    "    \n",
    "    b = ds.precip.sel(latitude=loc_lat[i], longitude=loc_lon[i], method = \"nearest\").ffill(\"time\")\n",
    "    c = ffilled_datasets[i].sea_level.sel(time=slice(start,end)).squeeze()\n",
    "    min_time = max(min(c.time), min(b.time)) #these two lines take the maximum overlap of time for the two different locations.\n",
    "    max_time = min(max(c.time), max(b.time))\n",
    "    c_new=c.sel(time = slice(min_time, max_time)).groupby(\"time.year\").mean()\n",
    "    b_new=b.sel(time = slice(min_time, max_time)).groupby(\"time.year\").mean()\n",
    "    r, p = stats.pearsonr(c_new,b_new)\n",
    "    list_of_corr_coeff_precip_vs_tidal_gauge.append([r,p])\n",
    "    print(\"Corr-Coeff: \",r,\" p-value: \",p)"
   ]
  },
  {
   "cell_type": "code",
   "execution_count": null,
   "id": "c84553f3-99cf-4060-a32f-97c6e795fa63",
   "metadata": {
    "tags": []
   },
   "outputs": [],
   "source": [
    "for i in dict_of_chosen_locations.keys():\n",
    "    print(i)"
   ]
  },
  {
   "cell_type": "code",
   "execution_count": null,
   "id": "351c21c1-31c0-4c9a-97f6-2836d00fbbe0",
   "metadata": {},
   "outputs": [],
   "source": []
  },
  {
   "cell_type": "code",
   "execution_count": null,
   "id": "034af07d-210b-403e-a040-674534128c34",
   "metadata": {},
   "outputs": [],
   "source": []
  }
 ],
 "metadata": {
  "kernelspec": {
   "display_name": "Python 3 (ipykernel)",
   "language": "python",
   "name": "python3"
  },
  "language_info": {
   "codemirror_mode": {
    "name": "ipython",
    "version": 3
   },
   "file_extension": ".py",
   "mimetype": "text/x-python",
   "name": "python",
   "nbconvert_exporter": "python",
   "pygments_lexer": "ipython3",
   "version": "3.10.12"
  }
 },
 "nbformat": 4,
 "nbformat_minor": 5
}
